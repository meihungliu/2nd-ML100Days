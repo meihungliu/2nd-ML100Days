{
 "cells": [
  {
   "cell_type": "markdown",
   "metadata": {},
   "source": [
    "*作業一\n",
    "data: Mall Customer Segmentation Data\n",
    "https://www.kaggle.com/vjchoudhary7/customer-segmentation-tutorial-in-python\n",
    "\n",
    "Q1 你選的這組資料為何重要？：\n",
    "很實用\n",
    "\n",
    "Q2 資料從而來\n",
    "提供者：Vijay Choudhary\n",
    "如何搜集：\n",
    "\n"
   ]
  },
  {
   "cell_type": "markdown",
   "metadata": {},
   "source": []
  },
  {
   "cell_type": "code",
   "execution_count": null,
   "metadata": {},
   "outputs": [],
   "source": []
  }
 ],
 "metadata": {
  "kernelspec": {
   "display_name": "Python 3",
   "language": "python",
   "name": "python3"
  },
  "language_info": {
   "codemirror_mode": {
    "name": "ipython",
    "version": 3
   },
   "file_extension": ".py",
   "mimetype": "text/x-python",
   "name": "python",
   "nbconvert_exporter": "python",
   "pygments_lexer": "ipython3",
   "version": "3.7.3"
  }
 },
 "nbformat": 4,
 "nbformat_minor": 2
}
