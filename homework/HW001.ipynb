{
 "cells": [
  {
   "cell_type": "markdown",
   "metadata": {},
   "source": [
    "##作業一\n",
    "data: Mall Customer Segmentation Data\n",
    "https://www.kaggle.com/vjchoudhary7/customer-segmentation-tutorial-in-python\n",
    "\n",
    "Q1 你選的這組資料為何重要？\n",
    "\n",
    "可以幫助瞭解\n",
    "\n",
    "1. 如何透過 machine learning 做 customer segmentation\n",
    "2. 辨認目標消費者並且採取對應的行銷策略\n",
    "\n",
    "Q2 資料從而來\n",
    "\n",
    "提供者：Vijay Choudhary\n",
    "\n",
    "如何搜集：From Udemy's Machine Learning A-Z course.\n",
    "\n",
    "Q3蒐集而來的資料型態為何\n",
    "\n",
    "結構化資料, csv\n",
    "\n",
    "Q4 這組資料想解決的問題如何評估\n",
    "\n",
    "How similar the customers lD's are within the same segment\n",
    "\n",
    "How different between customer segments\n",
    "\n",
    "\n"
   ]
  },
  {
   "cell_type": "markdown",
   "metadata": {},
   "source": []
  },
  {
   "cell_type": "code",
   "execution_count": null,
   "metadata": {},
   "outputs": [],
   "source": []
  }
 ],
 "metadata": {
  "kernelspec": {
   "display_name": "Python 3",
   "language": "python",
   "name": "python3"
  },
  "language_info": {
   "codemirror_mode": {
    "name": "ipython",
    "version": 3
   },
   "file_extension": ".py",
   "mimetype": "text/x-python",
   "name": "python",
   "nbconvert_exporter": "python",
   "pygments_lexer": "ipython3",
   "version": "3.7.3"
  }
 },
 "nbformat": 4,
 "nbformat_minor": 2
}
