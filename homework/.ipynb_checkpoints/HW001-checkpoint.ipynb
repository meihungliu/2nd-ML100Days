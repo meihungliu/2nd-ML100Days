{
 "cells": [
  {
   "cell_type": "markdown",
   "metadata": {},
   "source": [
    "##作業一\n",
    "\n",
    "\n",
    "data: Mall Customer Segmentation Data\n",
    "https://www.kaggle.com/vjchoudhary7/customer-segmentation-tutorial-in-python\n",
    "\n",
    "####Q1 你選的這組資料為何重要？\n",
    "\n",
    "可以幫助瞭解\n",
    "\n",
    "1. 如何透過 machine learning 做 customer segmentation\n",
    "2. 辨認目標消費者並且採取對應的行銷策略\n",
    "\n",
    "####Q2 資料從而來\n",
    "\n",
    "提供者：Vijay Choudhary\n",
    "\n",
    "如何搜集：From Udemy's Machine Learning A-Z course.\n",
    "\n",
    "####Q3蒐集而來的資料型態為何\n",
    "\n",
    "結構化資料, csv\n",
    "\n",
    "####Q4 這組資料想解決的問題如何評估\n",
    "\n",
    "How similar the customers lD's are within the same segment\n",
    "\n",
    "How different between customer segments\n",
    "\n",
    "\n"
   ]
  },
  {
   "cell_type": "markdown",
   "metadata": {},
   "source": [
    "##作業二 \n",
    "\n",
    "想像你經營一個自由載客車隊，你希望能透過數據分析以提升業績，請你思考並描述你如何規劃整體的分析/解決方案：\n",
    "\n",
    "###核心問題為何 (tips：如何定義 「提升業績 & 你的假設」)\n",
    "\n",
    "提升業績方式：在最好的時段載到最多人\n",
    "\n",
    "我的假設：下雨天大家都想搭計程車\n",
    "\n",
    "###資料從何而來 (tips：哪些資料可能會對你想問的問題產生影響 & 資料如何蒐集)\n",
    "\n",
    "1. 天氣數據與車隊歷史叫車記錄交叉比對\n",
    "2. 車隊歷史叫車紀錄\n",
    "\n",
    "###蒐集而來的資料型態為何\n",
    "\n",
    "1. 天氣數據（地區、氣溫、濕度）\n",
    "2. 乘客姓名、乘客電話、乘客上下車地點\n",
    "\n",
    "###你要回答的問題，其如何評估 (tips：你的假設如何驗證)\n",
    "\n",
    "氣溫濕度是否和乘車人數成正比\n",
    "\n"
   ]
  },
  {
   "cell_type": "code",
   "execution_count": null,
   "metadata": {},
   "outputs": [],
   "source": []
  }
 ],
 "metadata": {
  "kernelspec": {
   "display_name": "Python 3",
   "language": "python",
   "name": "python3"
  },
  "language_info": {
   "codemirror_mode": {
    "name": "ipython",
    "version": 3
   },
   "file_extension": ".py",
   "mimetype": "text/x-python",
   "name": "python",
   "nbconvert_exporter": "python",
   "pygments_lexer": "ipython3",
   "version": "3.7.3"
  }
 },
 "nbformat": 4,
 "nbformat_minor": 2
}
